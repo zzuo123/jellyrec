{
 "cells": [
  {
   "cell_type": "code",
   "execution_count": 1,
   "metadata": {},
   "outputs": [
    {
     "name": "stdout",
     "output_type": "stream",
     "text": [
      "   userId  movieId  rating  timestamp\n",
      "0       1        1     4.0  964982703\n",
      "1       1        3     4.0  964981247\n",
      "2       1        6     4.0  964982224\n",
      "3       1       47     5.0  964983815\n",
      "4       1       50     5.0  964982931\n",
      "(100836, 4)\n"
     ]
    }
   ],
   "source": [
    "# import the movielens small dataset from ./ml-latest-small/ml-latest-small/ratings.csv\n",
    "import pandas as pd\n",
    "\n",
    "ratings = pd.read_csv('ml-latest-small/ml-latest-small/ratings.csv')\n",
    "\n",
    "print(ratings.head())\n",
    "print(ratings.shape)"
   ]
  },
  {
   "cell_type": "code",
   "execution_count": 2,
   "metadata": {},
   "outputs": [
    {
     "name": "stdout",
     "output_type": "stream",
     "text": [
      "   movieId                               title  \\\n",
      "0        1                    Toy Story (1995)   \n",
      "1        2                      Jumanji (1995)   \n",
      "2        3             Grumpier Old Men (1995)   \n",
      "3        4            Waiting to Exhale (1995)   \n",
      "4        5  Father of the Bride Part II (1995)   \n",
      "\n",
      "                                        genres  \n",
      "0  Adventure|Animation|Children|Comedy|Fantasy  \n",
      "1                   Adventure|Children|Fantasy  \n",
      "2                               Comedy|Romance  \n",
      "3                         Comedy|Drama|Romance  \n",
      "4                                       Comedy  \n",
      "(9742, 3)\n"
     ]
    }
   ],
   "source": [
    "# import the movies.csv file for movie names\n",
    "movies = pd.read_csv('ml-latest-small/ml-latest-small/movies.csv')\n",
    "\n",
    "print(movies.head())\n",
    "print(movies.shape)"
   ]
  },
  {
   "cell_type": "code",
   "execution_count": 3,
   "metadata": {},
   "outputs": [
    {
     "name": "stdout",
     "output_type": "stream",
     "text": [
      "   movieId  imdbId   tmdbId\n",
      "0        1  114709    862.0\n",
      "1        2  113497   8844.0\n",
      "2        3  113228  15602.0\n",
      "3        4  114885  31357.0\n",
      "4        5  113041  11862.0\n",
      "(9742, 3)\n"
     ]
    }
   ],
   "source": [
    "# import the imdb links from the links.csv file\n",
    "links = pd.read_csv('ml-latest-small/ml-latest-small/links.csv')\n",
    "\n",
    "print(links.head())\n",
    "print(links.shape)"
   ]
  },
  {
   "cell_type": "code",
   "execution_count": 4,
   "metadata": {},
   "outputs": [
    {
     "name": "stdout",
     "output_type": "stream",
     "text": [
      "[59315, 89745, 58559]\n"
     ]
    }
   ],
   "source": [
    "# temporarily create a list of imdb ids to use for recommendation (liked movies), ironman, avengers, and dark knight\n",
    "liked_movies = ['tt0371746', 'tt0848228', 'tt0468569']\n",
    "\n",
    "# create a list of movie ids for the liked movies\n",
    "liked_movie_ids = []\n",
    "for movie in liked_movies:\n",
    "    liked_movie_ids.append(links[links['imdbId'] == int(movie[2:])]['movieId'].values[0])\n",
    "\n",
    "print(liked_movie_ids)"
   ]
  },
  {
   "cell_type": "code",
   "execution_count": 5,
   "metadata": {},
   "outputs": [
    {
     "name": "stdout",
     "output_type": "stream",
     "text": [
      "There are 610 unique users in the ratings list\n",
      "There are 9724 unique movies in the ratings list\n",
      "There are 100836 ratings in the ratings list\n"
     ]
    }
   ],
   "source": [
    "# Analysis of the data\n",
    "\n",
    "print(\"There are {} unique users in the ratings list\".format(ratings['userId'].nunique()))\n",
    "print(\"There are {} unique movies in the ratings list\".format(ratings['movieId'].nunique()))\n",
    "print(\"There are {} ratings in the ratings list\".format(ratings.shape[0]))"
   ]
  },
  {
   "cell_type": "code",
   "execution_count": 6,
   "metadata": {},
   "outputs": [
    {
     "name": "stdout",
     "output_type": "stream",
     "text": [
      "movieId  1       2       3       4       5       6       7       8       \\\n",
      "userId                                                                    \n",
      "1           0.6     0.0     0.6     0.0     0.0     0.6     0.0     0.0   \n",
      "2           0.0     0.0     0.0     0.0     0.0     0.0     0.0     0.0   \n",
      "3           0.0     0.0     0.0     0.0     0.0     0.0     0.0     0.0   \n",
      "4           0.0     0.0     0.0     0.0     0.0     0.0     0.0     0.0   \n",
      "5           0.6     0.0     0.0     0.0     0.0     0.0     0.0     0.0   \n",
      "\n",
      "movieId  9       10      ...  193565  193567  193571  193573  193579  193581  \\\n",
      "userId                   ...                                                   \n",
      "1           0.0     0.0  ...     0.0     0.0     0.0     0.0     0.0     0.0   \n",
      "2           0.0     0.0  ...     0.0     0.0     0.0     0.0     0.0     0.0   \n",
      "3           0.0     0.0  ...     0.0     0.0     0.0     0.0     0.0     0.0   \n",
      "4           0.0     0.0  ...     0.0     0.0     0.0     0.0     0.0     0.0   \n",
      "5           0.0     0.0  ...     0.0     0.0     0.0     0.0     0.0     0.0   \n",
      "\n",
      "movieId  193583  193585  193587  193609  \n",
      "userId                                   \n",
      "1           0.0     0.0     0.0     0.0  \n",
      "2           0.0     0.0     0.0     0.0  \n",
      "3           0.0     0.0     0.0     0.0  \n",
      "4           0.0     0.0     0.0     0.0  \n",
      "5           0.0     0.0     0.0     0.0  \n",
      "\n",
      "[5 rows x 9724 columns]\n"
     ]
    }
   ],
   "source": [
    "# construct the user-item matrix\n",
    "user_item_matrix = ratings.pivot(index='userId', columns='movieId', values='rating')\n",
    "\n",
    "# normalize ratings from 1-5 to -2.5 to 2.5, replace NaN with 0\n",
    "user_item_matrix = user_item_matrix.apply(lambda x: (x - 2.5) / 2.5).fillna(0)\n",
    "\n",
    "print(user_item_matrix.head())"
   ]
  },
  {
   "cell_type": "code",
   "execution_count": 7,
   "metadata": {},
   "outputs": [
    {
     "name": "stdout",
     "output_type": "stream",
     "text": [
      "[[ 0.6  0.   0.6 ...  0.   0.   0. ]\n",
      " [ 0.   0.   0.  ...  0.   0.   0. ]\n",
      " [ 0.   0.   0.  ...  0.   0.   0. ]\n",
      " ...\n",
      " [ 0.  -0.2 -0.2 ...  0.   0.   0. ]\n",
      " [ 0.2  0.   0.  ...  0.   0.   0. ]\n",
      " [ 1.   0.   0.  ...  0.   0.   0. ]]\n"
     ]
    }
   ],
   "source": [
    "# convert the user-item matrix to a numpy array with mappings for user and movie ids\n",
    "class Mapping:\n",
    "    def __init__(self, ids):\n",
    "        self.ids = ids\n",
    "        self.id_to_index = {id: index for index, id in enumerate(ids)}\n",
    "        self.index_to_id = {index: id for index, id in enumerate(ids)}\n",
    "\n",
    "    def get_index(self, id):\n",
    "        return self.id_to_index[id]\n",
    "    \n",
    "    def get_id(self, index):\n",
    "        return self.index_to_id[index]\n",
    "    \n",
    "    def get_indices(self, ids):\n",
    "        return [self.id_to_index[id] for id in ids]\n",
    "    \n",
    "    def get_ids(self, indices):\n",
    "        return [self.index_to_id[index] for index in indices]\n",
    "\n",
    "mapping_user = Mapping(user_item_matrix.index)\n",
    "mapping_movie = Mapping(user_item_matrix.columns)\n",
    "\n",
    "user_item_matrix = user_item_matrix.values\n",
    "print(user_item_matrix)"
   ]
  },
  {
   "cell_type": "code",
   "execution_count": 8,
   "metadata": {},
   "outputs": [
    {
     "name": "stdout",
     "output_type": "stream",
     "text": [
      "[0. 0. 0. ... 0. 0. 0.]\n"
     ]
    }
   ],
   "source": [
    "# create a user's interaction based on the liked movies using liked_movie_ids\n",
    "\n",
    "import numpy as np\n",
    "\n",
    "user_interaction = np.zeros(user_item_matrix.shape[1])\n",
    "\n",
    "for movie_id in liked_movie_ids:\n",
    "    user_interaction[mapping_movie.get_index(movie_id)] = 2.5\n",
    "\n",
    "print(user_interaction)"
   ]
  },
  {
   "cell_type": "code",
   "execution_count": 9,
   "metadata": {},
   "outputs": [],
   "source": [
    "# simple knn model solution\n",
    "from sklearn.metrics.pairwise import cosine_similarity\n",
    "\n",
    "# calculate the cosine similarity between the user-item matrix (item/movie similarity)\n",
    "cosine_sim_model = cosine_similarity(user_item_matrix.T)"
   ]
  },
  {
   "cell_type": "code",
   "execution_count": 10,
   "metadata": {},
   "outputs": [
    {
     "name": "stdout",
     "output_type": "stream",
     "text": [
      "['Dark Knight, The (2008)' 'Iron Man (2008)' 'WALL·E (2008)'\n",
      " 'Iron Man 2 (2010)' 'Inception (2010)' 'X-Men: First Class (2011)'\n",
      " 'Avengers, The (2012)' 'Dark Knight Rises, The (2012)'\n",
      " 'Iron Man 3 (2013)' 'Guardians of the Galaxy (2014)']\n"
     ]
    }
   ],
   "source": [
    "# calculate the scores for the user interaction\n",
    "scores = cosine_sim_model.dot(user_interaction)\n",
    "\n",
    "# sort the scores and get the top 10 movie ids\n",
    "top_10_indices = scores.argsort()[-10:][::-1]\n",
    "\n",
    "# get the top 10 movie ids\n",
    "top_10_movie_ids = mapping_movie.get_ids(top_10_indices)\n",
    "\n",
    "# get the top 10 movie names\n",
    "top_10_movie_names = movies[movies['movieId'].isin(top_10_movie_ids)]['title'].values\n",
    "\n",
    "print(top_10_movie_names)\n"
   ]
  },
  {
   "cell_type": "code",
   "execution_count": 11,
   "metadata": {},
   "outputs": [
    {
     "name": "stdout",
     "output_type": "stream",
     "text": [
      "['Batman Begins (2005)' 'WALL·E (2008)' 'Star Trek (2009)' 'Up (2009)'\n",
      " 'Iron Man 2 (2010)' 'Inception (2010)' 'X-Men: First Class (2011)'\n",
      " 'Dark Knight Rises, The (2012)' 'Iron Man 3 (2013)'\n",
      " 'Guardians of the Galaxy (2014)']\n"
     ]
    }
   ],
   "source": [
    "# we can see above that the top 10 contains the liked movies, to avoid this we can give the liked movies a score of -1 so that they are not recommended\n",
    "for movie_id in liked_movie_ids:\n",
    "    scores[mapping_movie.get_index(movie_id)] = -1\n",
    "\n",
    "# sort the scores and get the top 10 movie ids\n",
    "top_10_indices = scores.argsort()[-10:][::-1]\n",
    "\n",
    "top_10_movie_ids = mapping_movie.get_ids(top_10_indices)\n",
    "top_10_movie_names = movies[movies['movieId'].isin(top_10_movie_ids)]['title'].values\n",
    "\n",
    "print(top_10_movie_names)"
   ]
  },
  {
   "cell_type": "code",
   "execution_count": 12,
   "metadata": {},
   "outputs": [],
   "source": [
    "# simple pearson correlation model solution\n",
    "user_item_matrix = ratings.pivot(index='userId', columns='movieId', values='rating')\n",
    "\n",
    "# fill NaN with 0\n",
    "user_item_matrix = user_item_matrix.fillna(0)\n",
    "\n",
    "# calculate the pearson correlation between the user-item matrix using corrcoef (item/movie similarity)\n",
    "pearson_corr_model = np.corrcoef(user_item_matrix.T)\n"
   ]
  },
  {
   "cell_type": "code",
   "execution_count": 13,
   "metadata": {},
   "outputs": [
    {
     "name": "stdout",
     "output_type": "stream",
     "text": [
      "['WALL·E (2008)' 'Up (2009)' 'Avatar (2009)' 'Iron Man 2 (2010)'\n",
      " 'Inception (2010)' 'Thor (2011)' 'X-Men: First Class (2011)'\n",
      " 'Dark Knight Rises, The (2012)' 'Iron Man 3 (2013)'\n",
      " 'Guardians of the Galaxy (2014)']\n"
     ]
    }
   ],
   "source": [
    "# get the scores, remove the liked movies, and get the top 10 movie names\n",
    "scores = pearson_corr_model.dot(user_interaction)\n",
    "for movie_id in liked_movie_ids:\n",
    "    scores[mapping_movie.get_index(movie_id)] = -1\n",
    "top_10_indices = scores.argsort()[-10:][::-1]\n",
    "top_10_movie_ids = mapping_movie.get_ids(top_10_indices)\n",
    "top_10_movie_names = movies[movies['movieId'].isin(top_10_movie_ids)]['title'].values\n",
    "\n",
    "print(top_10_movie_names)"
   ]
  },
  {
   "cell_type": "markdown",
   "metadata": {},
   "source": [
    "## Notes on Pearson Correlation vs Cosine Coefficient\n",
    "\n",
    "### Cosine Similarity\n",
    "\n",
    "Cosine similarity measures the angle between two vectors. The downside is that it does not account for the magnitude of the vectors. This means that if one user rates all movies very high and another user rates all movies very low, the cosine similarity will be very high. This is a problem for our specific use case because there are users that rate all movies very high or very low.\n",
    "\n",
    "However, we can remedy this by subtracting the average rating of each user from all their ratings. This way, the magnitude of the vectors will be taken into account. This is called `centered cosine similarity`.\n",
    "\n",
    "### Pearson Correlation\n",
    "\n",
    "Pearson correlation coefficient is a measure of the strength and direction of association that exists between two continuous variables, which ranges from -1 to 1, where 1 means that there is a strong positive correlation between the variables, -1 means that there is a strong negative correlation between the variables, and 0 means that there is no correlation between the variables. However, Pearson correlation coefficient can be more sensitive to outliers than cosine similarity. This is because Pearson correlation coefficient is based on the mean of the data, which can be affected by outliers. This is probably not too much of an issue for us because we are dealing with ratings, which are not continuous variables.\n",
    "\n",
    "### Conclusion\n",
    "\n",
    "In conclusion, both cosine similarity and pearson correlation should work well for our case. This is evident in the result from our experiment above, where both models produced similar recommendations for the same user. So we are going to conduct a more thorough experiment to determine which model is better for our case, by comparing the RMSE of the two models."
   ]
  }
 ],
 "metadata": {
  "kernelspec": {
   "display_name": "Python 3 (ipykernel)",
   "language": "python",
   "name": "python3"
  },
  "language_info": {
   "codemirror_mode": {
    "name": "ipython",
    "version": 3
   },
   "file_extension": ".py",
   "mimetype": "text/x-python",
   "name": "python",
   "nbconvert_exporter": "python",
   "pygments_lexer": "ipython3",
   "version": "3.11.3"
  }
 },
 "nbformat": 4,
 "nbformat_minor": 2
}
