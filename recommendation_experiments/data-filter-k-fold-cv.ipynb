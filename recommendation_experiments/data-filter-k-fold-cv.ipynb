{
 "cells": [
  {
   "cell_type": "code",
   "execution_count": 1,
   "id": "104ace1f",
   "metadata": {},
   "outputs": [
    {
     "name": "stdout",
     "output_type": "stream",
     "text": [
      "   userId  movieId  rating   timestamp\n",
      "0       1        1     4.0  1225734739\n",
      "1       1      110     4.0  1225865086\n",
      "2       1      158     4.0  1225733503\n",
      "3       1      260     4.5  1225735204\n",
      "4       1      356     5.0  1225735119\n",
      "(33832162, 4)\n"
     ]
    }
   ],
   "source": [
    "# load the ml-latest full dataset into a pandas dataframe\n",
    "import pandas as pd\n",
    "ratings = pd.read_csv('ml-latest/ml-latest/ratings.csv')\n",
    "\n",
    "print(ratings.head())\n",
    "print(ratings.shape)"
   ]
  },
  {
   "cell_type": "code",
   "execution_count": 2,
   "id": "f688bbf4",
   "metadata": {},
   "outputs": [
    {
     "name": "stdout",
     "output_type": "stream",
     "text": [
      "Fold 1\n",
      "shape: (3383217, 4)\n",
      "Fold 2\n",
      "shape: (3383217, 4)\n",
      "Fold 3\n",
      "shape: (3383216, 4)\n",
      "Fold 4\n",
      "shape: (3383216, 4)\n",
      "Fold 5\n",
      "shape: (3383216, 4)\n",
      "Fold 6\n",
      "shape: (3383216, 4)\n",
      "Fold 7\n",
      "shape: (3383216, 4)\n",
      "Fold 8\n",
      "shape: (3383216, 4)\n",
      "Fold 9\n",
      "shape: (3383216, 4)\n",
      "Fold 10\n",
      "shape: (3383216, 4)\n"
     ]
    }
   ],
   "source": [
    "# We will be doing 10 fold cross validation as that seems to be a fair number\n",
    "# for assessing the accuracy of our splitting methods\n",
    "k = 10\n",
    "\n",
    "# split the ratings into folds\n",
    "from sklearn.model_selection import KFold\n",
    "kf = KFold(n_splits=k, shuffle=True, random_state=1)\n",
    "\n",
    "try:\n",
    "    del folds\n",
    "except:\n",
    "    pass\n",
    "\n",
    "folds = []\n",
    "for train_index, test_index in kf.split(ratings):\n",
    "    test_df = ratings.iloc[test_index].values\n",
    "    folds.append(test_df)\n",
    "\n",
    "for i, fold in enumerate(folds):\n",
    "    print(f\"Fold {i+1}\")\n",
    "    print(\"shape:\", fold.shape)"
   ]
  },
  {
   "cell_type": "code",
   "execution_count": 3,
   "id": "34cf174e",
   "metadata": {},
   "outputs": [],
   "source": [
    "# import the functions for different splitting methods that we have\n",
    "from filter import one, two, three, four, five \n",
    "\n",
    "# Some more magic so that the notebook will reload external python modules;\n",
    "# see http://stackoverflow.com/questions/1907993/autoreload-of-modules-in-ipython\n",
    "%load_ext autoreload\n",
    "%autoreload "
   ]
  },
  {
   "cell_type": "code",
   "execution_count": 4,
   "id": "e8079ba5",
   "metadata": {},
   "outputs": [],
   "source": [
    "# function to train and evaluate the KNN model, and return the RMSE and MAE value\n",
    "from surprise import Dataset, Reader, KNNBasic\n",
    "\n",
    "def train_and_evaluate(train, test):\n",
    "    reader = Reader(rating_scale=(1, 5))\n",
    "    train_data = Dataset.load_from_df(train[['userId', 'movieId', 'rating']], reader)\n",
    "    trainset = train_data.build_full_trainset()\n",
    "    test_data = Dataset.load_from_df(test[['userId', 'movieId', 'rating']], reader)\n",
    "    testset = test_data.build_full_trainset().build_testset()\n",
    "    algo = KNNBasic(\n",
    "        k=40,   # maximum number of neighbors to consider for aggregation (when making predictions)\n",
    "        sim_options={\n",
    "            'name': 'cosine',\n",
    "            'user_based': False\n",
    "        }\n",
    "    )\n",
    "    algo.fit(trainset)\n",
    "    predictions = algo.test(testset)\n",
    "    from surprise import accuracy\n",
    "    rmse = accuracy.rmse(predictions)\n",
    "    mae = accuracy.mae(predictions)\n",
    "    return rmse, mae"
   ]
  },
  {
   "cell_type": "code",
   "execution_count": 5,
   "id": "c4c48e0c",
   "metadata": {},
   "outputs": [],
   "source": [
    "def limit_user_rating(num_user=1000, num_movies=10000):\n",
    "    #limit the user-item matrix to include number of users and number of movies\n",
    "#     get the list of movies and randomly sample\n",
    "#     get the list of users and randomly sample\n",
    "    movies = ratings['movieId'].unique()\n",
    "    users = ratings['userId'].unique()\n",
    "    # randomly sample the movies and users\n",
    "    import random\n",
    "    movies = random.sample(list(movies), num_movies)\n",
    "    users = random.sample(list(users), num_user)\n",
    "    ratings_sample = ratings[ratings['movieId'].isin(movies) & ratings['userId'].isin(users)]\n",
    "    return ratings_sample"
   ]
  },
  {
   "cell_type": "code",
   "execution_count": null,
   "id": "c9080556",
   "metadata": {},
   "outputs": [],
   "source": []
  }
 ],
 "metadata": {
  "kernelspec": {
   "display_name": "Python 3 (ipykernel)",
   "language": "python",
   "name": "python3"
  },
  "language_info": {
   "codemirror_mode": {
    "name": "ipython",
    "version": 3
   },
   "file_extension": ".py",
   "mimetype": "text/x-python",
   "name": "python",
   "nbconvert_exporter": "python",
   "pygments_lexer": "ipython3",
   "version": "3.11.3"
  }
 },
 "nbformat": 4,
 "nbformat_minor": 5
}
